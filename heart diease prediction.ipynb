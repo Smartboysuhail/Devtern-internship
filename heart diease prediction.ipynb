{
 "cells": [
  {
   "cell_type": "markdown",
   "id": "d0a8c058",
   "metadata": {},
   "source": [
    "# import  useful libraries"
   ]
  },
  {
   "cell_type": "code",
   "execution_count": 1,
   "id": "d98af9d2",
   "metadata": {},
   "outputs": [],
   "source": [
    "import numpy as np\n",
    "import pandas as pd\n",
    "from sklearn.model_selection import train_test_split\n",
    "from sklearn.linear_model import LogisticRegression\n",
    "from sklearn.metrics import accuracy_score,confusion_matrix,classification_report\n",
    "from sklearn.preprocessing import StandardScaler,LabelEncoder\n",
    "from sklearn.feature_selection import SelectKBest, f_classif"
   ]
  },
  {
   "cell_type": "code",
   "execution_count": 2,
   "id": "4e81f289",
   "metadata": {},
   "outputs": [],
   "source": [
    "df=pd.read_csv('Heart_Disease_Prediction.csv')"
   ]
  },
  {
   "cell_type": "markdown",
   "id": "98ea1520",
   "metadata": {},
   "source": [
    "# handling missing values"
   ]
  },
  {
   "cell_type": "code",
   "execution_count": 3,
   "id": "785e4f7a",
   "metadata": {},
   "outputs": [],
   "source": [
    "X=df.where(pd.notnull(df),'')"
   ]
  },
  {
   "cell_type": "code",
   "execution_count": 4,
   "id": "d44069f2",
   "metadata": {},
   "outputs": [
    {
     "data": {
      "text/plain": [
       "<bound method NDFrame.head of      Age  Sex  Chest pain type   BP  Cholesterol  FBS over 120  EKG results  \\\n",
       "0     70    1                4  130          322             0            2   \n",
       "1     67    0                3  115          564             0            2   \n",
       "2     57    1                2  124          261             0            0   \n",
       "3     64    1                4  128          263             0            0   \n",
       "4     74    0                2  120          269             0            2   \n",
       "..   ...  ...              ...  ...          ...           ...          ...   \n",
       "265   52    1                3  172          199             1            0   \n",
       "266   44    1                2  120          263             0            0   \n",
       "267   56    0                2  140          294             0            2   \n",
       "268   57    1                4  140          192             0            0   \n",
       "269   67    1                4  160          286             0            2   \n",
       "\n",
       "     Max HR  Exercise angina  ST depression  Slope of ST  \\\n",
       "0       109                0            2.4            2   \n",
       "1       160                0            1.6            2   \n",
       "2       141                0            0.3            1   \n",
       "3       105                1            0.2            2   \n",
       "4       121                1            0.2            1   \n",
       "..      ...              ...            ...          ...   \n",
       "265     162                0            0.5            1   \n",
       "266     173                0            0.0            1   \n",
       "267     153                0            1.3            2   \n",
       "268     148                0            0.4            2   \n",
       "269     108                1            1.5            2   \n",
       "\n",
       "     Number of vessels fluro  Thallium Heart Disease  \n",
       "0                          3         3      Presence  \n",
       "1                          0         7       Absence  \n",
       "2                          0         7      Presence  \n",
       "3                          1         7       Absence  \n",
       "4                          1         3       Absence  \n",
       "..                       ...       ...           ...  \n",
       "265                        0         7       Absence  \n",
       "266                        0         7       Absence  \n",
       "267                        0         3       Absence  \n",
       "268                        0         6       Absence  \n",
       "269                        3         3      Presence  \n",
       "\n",
       "[270 rows x 14 columns]>"
      ]
     },
     "execution_count": 4,
     "metadata": {},
     "output_type": "execute_result"
    }
   ],
   "source": [
    "X.head"
   ]
  },
  {
   "cell_type": "markdown",
   "id": "2b69665e",
   "metadata": {},
   "source": [
    "# categorize the prediction results"
   ]
  },
  {
   "cell_type": "code",
   "execution_count": 5,
   "id": "ae769272",
   "metadata": {},
   "outputs": [],
   "source": [
    "df.loc[df['Heart Disease']=='Presence','Heart Disease',] = 1\n",
    "df.loc[df['Heart Disease']=='Absence','Heart Disease',] = 0"
   ]
  },
  {
   "cell_type": "code",
   "execution_count": 6,
   "id": "f1d97967",
   "metadata": {},
   "outputs": [],
   "source": [
    "X=df.drop('Heart Disease',axis=1)"
   ]
  },
  {
   "cell_type": "code",
   "execution_count": 7,
   "id": "5a9aaec5",
   "metadata": {},
   "outputs": [],
   "source": [
    "Y=df['Heart Disease']"
   ]
  },
  {
   "cell_type": "markdown",
   "id": "96eab693",
   "metadata": {},
   "source": [
    "# create logistic regression model"
   ]
  },
  {
   "cell_type": "code",
   "execution_count": 8,
   "id": "9f4c7352",
   "metadata": {},
   "outputs": [],
   "source": [
    "model = LogisticRegression(solver='liblinear', max_iter=1000)"
   ]
  },
  {
   "cell_type": "code",
   "execution_count": 9,
   "id": "45a2b8a1",
   "metadata": {},
   "outputs": [],
   "source": [
    "label_encoder = LabelEncoder()\n",
    "Y = label_encoder.fit_transform(Y)"
   ]
  },
  {
   "cell_type": "markdown",
   "id": "16227ec3",
   "metadata": {},
   "source": [
    "#  extract useful features"
   ]
  },
  {
   "cell_type": "code",
   "execution_count": 10,
   "id": "7086cea5",
   "metadata": {},
   "outputs": [
    {
     "name": "stdout",
     "output_type": "stream",
     "text": [
      "Selected Features: Index(['Age', 'Sex', 'Chest pain type', 'FBS over 120', 'EKG results',\n",
      "       'Max HR', 'Exercise angina', 'ST depression', 'Slope of ST',\n",
      "       'Number of vessels fluro', 'Thallium'],\n",
      "      dtype='object')\n"
     ]
    }
   ],
   "source": [
    "from sklearn.feature_selection import RFE\n",
    "\n",
    "# Create the RFE model and select the number of features to retain\n",
    "num_features_to_retain = 11  # Adjust this based on your preference\n",
    "rfe = RFE(estimator=model, n_features_to_select=num_features_to_retain)\n",
    "\n",
    "# Fit the RFE model to your data\n",
    "X_rfe = rfe.fit_transform(X, Y)\n",
    "\n",
    "# Get the selected features\n",
    "selected_features = X.columns[rfe.support_]\n",
    "\n",
    "# Print the selected features\n",
    "print(\"Selected Features:\", selected_features)\n"
   ]
  },
  {
   "cell_type": "code",
   "execution_count": 11,
   "id": "61210f6b",
   "metadata": {},
   "outputs": [],
   "source": [
    "X_selected=X[selected_features]"
   ]
  },
  {
   "cell_type": "code",
   "execution_count": 12,
   "id": "d6b726ba",
   "metadata": {},
   "outputs": [],
   "source": [
    "X_train,X_test,Y_train,Y_test=train_test_split(X_selected,Y,random_state=3,test_size=0.3)\n"
   ]
  },
  {
   "cell_type": "markdown",
   "id": "55b736b2",
   "metadata": {},
   "source": [
    "\n",
    "# scaling the training data"
   ]
  },
  {
   "cell_type": "code",
   "execution_count": 13,
   "id": "c9a6b79d",
   "metadata": {},
   "outputs": [],
   "source": [
    "scaler = StandardScaler()\n",
    "X_train = scaler.fit_transform(X_train)"
   ]
  },
  {
   "cell_type": "code",
   "execution_count": 14,
   "id": "1a15ca63",
   "metadata": {},
   "outputs": [
    {
     "name": "stdout",
     "output_type": "stream",
     "text": [
      "(189, 11)\n",
      "(81, 11)\n",
      "(189,)\n",
      "(81,)\n"
     ]
    }
   ],
   "source": [
    "print(X_train.shape)\n",
    "print(X_test.shape)\n",
    "print(Y_train.shape)\n",
    "print(Y_test.shape)"
   ]
  },
  {
   "cell_type": "markdown",
   "id": "5d34211d",
   "metadata": {},
   "source": [
    "# performing cross validation for better performance"
   ]
  },
  {
   "cell_type": "code",
   "execution_count": 15,
   "id": "504af8e6",
   "metadata": {},
   "outputs": [
    {
     "name": "stdout",
     "output_type": "stream",
     "text": [
      "Fitting 5 folds for each of 12 candidates, totalling 60 fits\n"
     ]
    },
    {
     "name": "stderr",
     "output_type": "stream",
     "text": [
      "D:\\anaconda\\lib\\site-packages\\sklearn\\metrics\\_classification.py:1318: UndefinedMetricWarning: Precision is ill-defined and being set to 0.0 due to no predicted samples. Use `zero_division` parameter to control this behavior.\n",
      "  _warn_prf(average, modifier, msg_start, len(result))\n",
      "D:\\anaconda\\lib\\site-packages\\sklearn\\metrics\\_classification.py:1318: UndefinedMetricWarning: Precision is ill-defined and being set to 0.0 due to no predicted samples. Use `zero_division` parameter to control this behavior.\n",
      "  _warn_prf(average, modifier, msg_start, len(result))\n",
      "D:\\anaconda\\lib\\site-packages\\sklearn\\metrics\\_classification.py:1318: UndefinedMetricWarning: Precision is ill-defined and being set to 0.0 due to no predicted samples. Use `zero_division` parameter to control this behavior.\n",
      "  _warn_prf(average, modifier, msg_start, len(result))\n",
      "D:\\anaconda\\lib\\site-packages\\sklearn\\metrics\\_classification.py:1318: UndefinedMetricWarning: Precision is ill-defined and being set to 0.0 due to no predicted samples. Use `zero_division` parameter to control this behavior.\n",
      "  _warn_prf(average, modifier, msg_start, len(result))\n",
      "D:\\anaconda\\lib\\site-packages\\sklearn\\metrics\\_classification.py:1318: UndefinedMetricWarning: Precision is ill-defined and being set to 0.0 due to no predicted samples. Use `zero_division` parameter to control this behavior.\n",
      "  _warn_prf(average, modifier, msg_start, len(result))\n"
     ]
    },
    {
     "data": {
      "text/plain": [
       "GridSearchCV(cv=StratifiedKFold(n_splits=5, random_state=42, shuffle=True),\n",
       "             estimator=LogisticRegression(max_iter=1000, solver='liblinear'),\n",
       "             param_grid={'C': [0.001, 0.01, 0.1, 1, 10, 100],\n",
       "                         'penalty': ['l1', 'l2']},\n",
       "             refit='f1',\n",
       "             scoring={'accuracy': make_scorer(accuracy_score),\n",
       "                      'f1': make_scorer(f1_score, average=binary),\n",
       "                      'precision': make_scorer(precision_score, average=binary),\n",
       "                      'recall': make_scorer(recall_score, average=binary)},\n",
       "             verbose=1)"
      ]
     },
     "execution_count": 15,
     "metadata": {},
     "output_type": "execute_result"
    }
   ],
   "source": [
    "from sklearn.model_selection import GridSearchCV, StratifiedKFold\n",
    "from sklearn.metrics import make_scorer, accuracy_score, precision_score, recall_score, f1_score\n",
    "\n",
    "# Assuming X_selected is your feature matrix and Y is your target variable\n",
    "# Update the parameter grid based on your requirements\n",
    "param_grid = {\n",
    "    'C': [0.001, 0.01, 0.1, 1, 10, 100],  # Regularization parameter\n",
    "    'penalty': ['l1', 'l2'],  # Regularization type\n",
    "}\n",
    "\n",
    "# Define the scoring metrics you are interested in\n",
    "scoring = {\n",
    "    'accuracy': make_scorer(accuracy_score),\n",
    "    'precision': make_scorer(precision_score, average='binary'),\n",
    "    'recall': make_scorer(recall_score, average='binary'),\n",
    "    'f1': make_scorer(f1_score, average='binary'),\n",
    "}\n",
    "\n",
    "\n",
    "# Create the cross-validation strategy (StratifiedKFold for classification)\n",
    "cv = StratifiedKFold(n_splits=5, shuffle=True, random_state=42)\n",
    "\n",
    "# Create the GridSearchCV object\n",
    "grid_search = GridSearchCV(model, param_grid, scoring=scoring, cv=cv, refit='f1', verbose=1)\n",
    "\n",
    "# Fit the model with cross-validated grid search\n",
    "grid_search.fit(X_selected, Y)\n"
   ]
  },
  {
   "cell_type": "code",
   "execution_count": 16,
   "id": "0159d84d",
   "metadata": {},
   "outputs": [
    {
     "name": "stdout",
     "output_type": "stream",
     "text": [
      "Best Hyperparameters: {'C': 1, 'penalty': 'l1'}\n"
     ]
    }
   ],
   "source": [
    "# Get the best hyperparameters\n",
    "best_params = grid_search.best_params_\n",
    "print(\"Best Hyperparameters:\", best_params)"
   ]
  },
  {
   "cell_type": "code",
   "execution_count": 17,
   "id": "80b7ff86",
   "metadata": {},
   "outputs": [
    {
     "name": "stdout",
     "output_type": "stream",
     "text": [
      "LogisticRegression(C=1, max_iter=1000, penalty='l1', solver='liblinear')\n"
     ]
    }
   ],
   "source": [
    "# Get the best model\n",
    "best_model = grid_search.best_estimator_\n",
    "print(best_model)"
   ]
  },
  {
   "cell_type": "code",
   "execution_count": 18,
   "id": "449f85ad",
   "metadata": {},
   "outputs": [],
   "source": [
    "# Evaluate the best model on the test set\n",
    "y_pred = best_model.predict(X_test)"
   ]
  },
  {
   "cell_type": "markdown",
   "id": "739a8d1c",
   "metadata": {},
   "source": [
    "# calculate the accuracy score"
   ]
  },
  {
   "cell_type": "code",
   "execution_count": 19,
   "id": "99ede1d6",
   "metadata": {},
   "outputs": [],
   "source": [
    "accuracy =accuracy_score(Y_test,y_pred)\n",
    "confusion=confusion_matrix(Y_test,y_pred)\n",
    "report=classification_report(Y_test,y_pred)"
   ]
  },
  {
   "cell_type": "code",
   "execution_count": 20,
   "id": "010abb8c",
   "metadata": {},
   "outputs": [
    {
     "name": "stdout",
     "output_type": "stream",
     "text": [
      "Accuracy:0.8518518518518519\n",
      "Confusion Matrix:[[45  6]\n",
      " [ 6 24]]\n",
      "Classification Report:              precision    recall  f1-score   support\n",
      "\n",
      "           0       0.88      0.88      0.88        51\n",
      "           1       0.80      0.80      0.80        30\n",
      "\n",
      "    accuracy                           0.85        81\n",
      "   macro avg       0.84      0.84      0.84        81\n",
      "weighted avg       0.85      0.85      0.85        81\n",
      "\n"
     ]
    }
   ],
   "source": [
    "print(f'Accuracy:{accuracy}')\n",
    "print(f'Confusion Matrix:{confusion}')\n",
    "print(f'Classification Report:{report}')"
   ]
  },
  {
   "cell_type": "markdown",
   "id": "10ce852a",
   "metadata": {},
   "source": [
    "# prediction on random example"
   ]
  },
  {
   "cell_type": "code",
   "execution_count": 21,
   "id": "6902da8f",
   "metadata": {},
   "outputs": [],
   "source": [
    "X_new={'Age':50, 'Sex':1.0, 'Chest pain type':5.0, 'FBS over 120':0.0, 'EKG results':1.0,\n",
    "       'Max HR':140.5, 'Exercise angina':2.0, 'ST depression':3.2, 'Slope of ST':0.0,\n",
    "       'Number of vessels fluro':1.0, 'Thallium':5.3}"
   ]
  },
  {
   "cell_type": "code",
   "execution_count": 22,
   "id": "981a5bec",
   "metadata": {},
   "outputs": [],
   "source": [
    "X_new = pd.DataFrame([X_new])\n",
    "y_pred=best_model.predict(X_new)"
   ]
  },
  {
   "cell_type": "code",
   "execution_count": 23,
   "id": "368c1ba5",
   "metadata": {},
   "outputs": [
    {
     "name": "stdout",
     "output_type": "stream",
     "text": [
      "[1]\n",
      "Heart Disease\n"
     ]
    }
   ],
   "source": [
    "print(y_pred)\n",
    "if y_pred==1:\n",
    "    print(\"Heart Disease\")\n",
    "else:\n",
    "    print(\"No Heart Disease\")\n",
    "        "
   ]
  }
 ],
 "metadata": {
  "kernelspec": {
   "display_name": "Python 3 (ipykernel)",
   "language": "python",
   "name": "python3"
  },
  "language_info": {
   "codemirror_mode": {
    "name": "ipython",
    "version": 3
   },
   "file_extension": ".py",
   "mimetype": "text/x-python",
   "name": "python",
   "nbconvert_exporter": "python",
   "pygments_lexer": "ipython3",
   "version": "3.9.13"
  }
 },
 "nbformat": 4,
 "nbformat_minor": 5
}
